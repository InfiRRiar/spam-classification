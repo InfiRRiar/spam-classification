{
 "cells": [
  {
   "cell_type": "code",
   "execution_count": 1,
   "id": "2627a699",
   "metadata": {},
   "outputs": [],
   "source": [
    "import torch\n",
    "import pandas as pd\n",
    "from sklearn.model_selection import train_test_split, learning_curve"
   ]
  },
  {
   "cell_type": "code",
   "execution_count": 2,
   "id": "a386da37",
   "metadata": {},
   "outputs": [
    {
     "data": {
      "application/vnd.microsoft.datawrangler.viewer.v0+json": {
       "columns": [
        {
         "name": "index",
         "rawType": "int64",
         "type": "integer"
        },
        {
         "name": "v1",
         "rawType": "object",
         "type": "string"
        },
        {
         "name": "v2",
         "rawType": "object",
         "type": "string"
        }
       ],
       "conversionMethod": "pd.DataFrame",
       "ref": "b42b2745-3b89-4c0f-a91c-a96f0ccaaeba",
       "rows": [
        [
         "0",
         "ham",
         "Go until jurong point, crazy.. Available only in bugis n great world la e buffet... Cine there got amore wat..."
        ],
        [
         "1",
         "ham",
         "Ok lar... Joking wif u oni..."
        ],
        [
         "2",
         "spam",
         "Free entry in 2 a wkly comp to win FA Cup final tkts 21st May 2005. Text FA to 87121 to receive entry question(std txt rate)T&C's apply 08452810075over18's"
        ],
        [
         "3",
         "ham",
         "U dun say so early hor... U c already then say..."
        ],
        [
         "4",
         "ham",
         "Nah I don't think he goes to usf, he lives around here though"
        ]
       ],
       "shape": {
        "columns": 2,
        "rows": 5
       }
      },
      "text/html": [
       "<div>\n",
       "<style scoped>\n",
       "    .dataframe tbody tr th:only-of-type {\n",
       "        vertical-align: middle;\n",
       "    }\n",
       "\n",
       "    .dataframe tbody tr th {\n",
       "        vertical-align: top;\n",
       "    }\n",
       "\n",
       "    .dataframe thead th {\n",
       "        text-align: right;\n",
       "    }\n",
       "</style>\n",
       "<table border=\"1\" class=\"dataframe\">\n",
       "  <thead>\n",
       "    <tr style=\"text-align: right;\">\n",
       "      <th></th>\n",
       "      <th>v1</th>\n",
       "      <th>v2</th>\n",
       "    </tr>\n",
       "  </thead>\n",
       "  <tbody>\n",
       "    <tr>\n",
       "      <th>0</th>\n",
       "      <td>ham</td>\n",
       "      <td>Go until jurong point, crazy.. Available only ...</td>\n",
       "    </tr>\n",
       "    <tr>\n",
       "      <th>1</th>\n",
       "      <td>ham</td>\n",
       "      <td>Ok lar... Joking wif u oni...</td>\n",
       "    </tr>\n",
       "    <tr>\n",
       "      <th>2</th>\n",
       "      <td>spam</td>\n",
       "      <td>Free entry in 2 a wkly comp to win FA Cup fina...</td>\n",
       "    </tr>\n",
       "    <tr>\n",
       "      <th>3</th>\n",
       "      <td>ham</td>\n",
       "      <td>U dun say so early hor... U c already then say...</td>\n",
       "    </tr>\n",
       "    <tr>\n",
       "      <th>4</th>\n",
       "      <td>ham</td>\n",
       "      <td>Nah I don't think he goes to usf, he lives aro...</td>\n",
       "    </tr>\n",
       "  </tbody>\n",
       "</table>\n",
       "</div>"
      ],
      "text/plain": [
       "     v1                                                 v2\n",
       "0   ham  Go until jurong point, crazy.. Available only ...\n",
       "1   ham                      Ok lar... Joking wif u oni...\n",
       "2  spam  Free entry in 2 a wkly comp to win FA Cup fina...\n",
       "3   ham  U dun say so early hor... U c already then say...\n",
       "4   ham  Nah I don't think he goes to usf, he lives aro..."
      ]
     },
     "execution_count": 2,
     "metadata": {},
     "output_type": "execute_result"
    }
   ],
   "source": [
    "raw_data = pd.read_csv(\"spam.csv\", encoding=\"latin-1\", delimiter=\",\")\n",
    "\n",
    "raw_data = raw_data.iloc[:, :2]\n",
    "raw_data = raw_data.drop_duplicates()\n",
    "raw_data.head()"
   ]
  },
  {
   "cell_type": "markdown",
   "id": "4cfd2005",
   "metadata": {},
   "source": [
    "# Naive Bayes (Baseline)"
   ]
  },
  {
   "cell_type": "code",
   "execution_count": 3,
   "id": "329a6a53",
   "metadata": {},
   "outputs": [],
   "source": [
    "from nltk.corpus import stopwords\n",
    "import re\n",
    "\n",
    "sw = stopwords.words('english')\n",
    "unique_words = list()\n",
    "\n",
    "\n",
    "def clean_text(text):\n",
    "    global unique_words\n",
    "    \n",
    "    text = text.lower()\n",
    "    \n",
    "    text = re.sub(r\"[^a-zA-Z]+\", \" \", text) # replacing everything with space except (a-z, A-Z, \".\", \"?\", \"!\", \",\")\n",
    "\n",
    "    text = re.sub(r\"http\\S+\", \"\",text) #Removing URLs \n",
    "    \n",
    "    html=re.compile(r'<.*?>') \n",
    "    \n",
    "    text = html.sub(r'',text) #Removing html tags\n",
    "    \n",
    "    text = re.sub(r\"\\s+\", \" \", text)\n",
    "        \n",
    "    text = [word.lower() for word in text.split() if word.lower() not in sw] #removing stopwords\n",
    "    for word in text:\n",
    "        if word in unique_words:\n",
    "            continue\n",
    "        unique_words.append(word)\n",
    "    \n",
    "    text = \" \".join(text)\n",
    "    \n",
    "    emoji_pattern = re.compile(\"[\"\n",
    "                           u\"\\U0001F600-\\U0001F64F\"  # emoticons\n",
    "                           u\"\\U0001F300-\\U0001F5FF\"  # symbols & pictographs\n",
    "                           u\"\\U0001F680-\\U0001F6FF\"  # transport & map symbols\n",
    "                           u\"\\U0001F1E0-\\U0001F1FF\"  # flags (iOS)\n",
    "                           u\"\\U00002702-\\U000027B0\"\n",
    "                           u\"\\U000024C2-\\U0001F251\"\n",
    "                           \"]+\", flags=re.UNICODE)\n",
    "    text = emoji_pattern.sub(r'', text) #Removing emojis\n",
    "    \n",
    "    return text\n",
    "\n",
    "raw_data[\"v2\"] = raw_data[\"v2\"].apply(lambda x: clean_text(x))\n",
    "\n",
    "X_train, X_test, y_train, y_test = train_test_split(raw_data[\"v2\"], raw_data[\"v1\"], test_size=0.2, stratify=raw_data[\"v1\"])"
   ]
  },
  {
   "cell_type": "code",
   "execution_count": 4,
   "id": "fc3bcc01",
   "metadata": {},
   "outputs": [
    {
     "name": "stdout",
     "output_type": "stream",
     "text": [
      "              precision    recall  f1-score   support\n",
      "\n",
      "           0       0.97      1.00      0.98       903\n",
      "           1       1.00      0.76      0.87       131\n",
      "\n",
      "    accuracy                           0.97      1034\n",
      "   macro avg       0.98      0.88      0.92      1034\n",
      "weighted avg       0.97      0.97      0.97      1034\n",
      "\n"
     ]
    },
    {
     "data": {
      "image/png": "[encoded data removed]",
      "text/plain": [
       "<Figure size 640x480 with 1 Axes>"
      ]
     },
     "metadata": {},
     "output_type": "display_data"
    }
   ],
   "source": [
    "from sklearn.feature_extraction.text import TfidfVectorizer\n",
    "from sklearn.naive_bayes import MultinomialNB\n",
    "from sklearn.metrics import precision_recall_curve, PrecisionRecallDisplay\n",
    "import numpy as np\n",
    "from sklearn.metrics import classification_report\n",
    "\n",
    "vectorizer = TfidfVectorizer()\n",
    "NB_X_train = vectorizer.fit_transform(X_train)\n",
    "NB_y_train = np.array(y_train.apply(lambda x: 0 if x == \"ham\" else 1))\n",
    "\n",
    "NB_X_test = vectorizer.transform(X_test)\n",
    "NB_y_test = np.array(y_test.apply(lambda x: 0 if x == \"ham\" else 1))\n",
    "\n",
    "model = MultinomialNB(class_prior=[0.87, 0.13])\n",
    "model.fit(NB_X_train, NB_y_train)\n",
    "\n",
    "y_proba = model.predict_proba(NB_X_test)\n",
    "predict = (y_proba[:, 1] > 0.5).astype(int) \n",
    "\n",
    "prec, recall, _ = precision_recall_curve(NB_y_test, y_proba[:, 1], pos_label=1)\n",
    "\n",
    "print(classification_report(NB_y_test, predict))\n",
    "PrecisionRecallDisplay(prec, recall).plot();"
   ]
  },
  {
   "cell_type": "markdown",
   "id": "823a6600",
   "metadata": {},
   "source": [
    "# Neural network"
   ]
  },
  {
   "cell_type": "code",
   "execution_count": 5,
   "id": "483284a4",
   "metadata": {},
   "outputs": [],
   "source": [
    "from torch.utils.data import DataLoader, Dataset\n",
    "\n",
    "X_train, X_test, y_train, y_test = train_test_split(raw_data[\"v2\"], raw_data[\"v1\"], test_size=0.1, stratify=raw_data[\"v1\"])"
   ]
  },
  {
   "cell_type": "code",
   "execution_count": 6,
   "id": "3e250a53",
   "metadata": {},
   "outputs": [],
   "source": [
    "from nltk.tokenize import TweetTokenizer\n",
    "from collections import Counter\n",
    "\n",
    "tokenizer = TweetTokenizer()\n",
    "\n",
    "pad = 0\n",
    "unk = 1\n",
    "token_to_indx = {\n",
    "    \"<PAD>\": 0,\n",
    "    \"<UNK>\": 1\n",
    "}\n",
    "tokens_count = Counter()\n",
    "\n",
    "def text_to_tokens(text):\n",
    "    res = list()\n",
    "    for sentence in text:\n",
    "        tokens = tokenizer.tokenize(sentence)\n",
    "        res.append([token for token in tokens if token.lower() not in sw])\n",
    "    return res\n",
    "\n",
    "tokenized_X_train = text_to_tokens(X_train)\n",
    "tokenized_X_test = text_to_tokens(X_test)\n",
    "for sentence in tokenized_X_train:\n",
    "    tokens_count.update(sentence)"
   ]
  },
  {
   "cell_type": "code",
   "execution_count": 7,
   "id": "fd5bb75c",
   "metadata": {},
   "outputs": [
    {
     "name": "stdout",
     "output_type": "stream",
     "text": [
      "Tokens in total: 7127\n",
      "Tokens left: 7129\n"
     ]
    }
   ],
   "source": [
    "print(\"Tokens in total:\", len(tokens_count))\n",
    "\n",
    "min_amount = 1 # Token must appear once at least min_amount times to not be UNK\n",
    "unique_tokens = [token for token in tokens_count if tokens_count[token] >= min_amount]\n",
    "unique_tokens.append(\"<PAD>\")\n",
    "unique_tokens.append(\"<UNK>\")\n",
    "\n",
    "print(\"Tokens left:\", len(unique_tokens))\n",
    "for ind, token in enumerate(unique_tokens):\n",
    "    token_to_indx[token] = ind + 2"
   ]
  },
  {
   "cell_type": "code",
   "execution_count": 8,
   "id": "11dda1b0",
   "metadata": {},
   "outputs": [
    {
     "name": "stdout",
     "output_type": "stream",
     "text": [
      "21\n"
     ]
    },
    {
     "data": {
      "application/vnd.plotly.v1+json": {
       "config": {
        "plotlyServerURL": "https://plot.ly"
       },
       "data": [
        {
         "bingroup": "x",
         "hovertemplate": "variable=0<br>value=%{x}<br>count=%{y}<extra></extra>",
         "legendgroup": "0",
         "marker": {
          "color": "#636efa",
          "pattern": {
           "shape": ""
          }
         },
         "name": "0",
         "orientation": "v",
         "showlegend": true,
         "type": "histogram",
         "x": {
          "bdata": "BggHBAUNDgsCBhQEDxIFFgQPEwYMBwEEEAYVBg0EDQoECQgCCAQIEgUSBBAJBBECBAIVDgQEBwIGBQgHAxERERkEEQQGAwUHAwgFFgcMFBADDAsIBAkCAw4CEQQQEw4PCg0EEAwIBxUDAw8DEBAEBBEHCQUGBAcDAhgPBwgIEAkDCQMRDQ0HBwQCBAIFBhEKFQQJJRETAgoDCwIEAxEEBQYDBAMDAAoFDggLAxAEDAQVAwYFDAoPAhQJDgMDBQMHDQgDAxAGCAkDBQULEAEOBwUDBA0GDQQQBgQDBQYLDwgGAQIQBAsGCgITBhgHAgQOAwkLAwgGDg0BBgkHAgIPBAQGBQ0FEAoIBQUFCwQQBAoYHAcREwQEMAsVDwMEBB4LBRcEDxAIBgsCCgIHCA8LEwsCChEUFQQMCAIDDg8CCQgDCRAOCAoRBAgOCRQFEBMOBgwJAgYWEQcDBQQSAw8KAAIHAwQHAwIIGAcKAwIDAxItBwwEAQMGBAYLBRMFBQYKBA0QDQQHBQcIBAQFAwUFCgUHAgYYEQMLBQIFExEOBAMUBAxAAgIDBA8EAxUFDQoNDRMDCAEJDQMJCwIDCAQODQQQDQsDAxAFAwMFEQcDBgoEAw0DDAoHDAwHBBMFCQwLCgQLCgsHDQcDExIOFAMGCRIDBwUEBhILEAULDQsRBAoIBwQPAwYMEAUNCwMFBgsFBwsDGgIGBAUGBwQEDwcOFAIBBxICCAgGBA4OBwUFBAQKBAgQBQgDEAQHCgQQBAcEEQMDEQgDCg0SCAUTEg4TAxYUAgcFCAQDBAwBBAoEBwQFCQQFDwUGAgUGBgUIBQpNAwoDBgwEDgMFCQsGBQIYAwIMAgMPAggCDgUTEAwHBwYFAgUCBgIUBRQLBAQWDgQPCAMGEAgEDQIQCgQHBgIGBQMDBAMECAUJBhMGAw4QBRYHCQwHAgQEBwMJEQwGBwYFDwQNAwUNBBUHCRUCBQ4LDRUCAwUMDwMGBggIAgcGIwYDCwQBDgQCBw0HCAQGCQYEAQIGBAYKBxcPBwgEAwsDDQsFAwYFDQMNDhYKCBUFFQELEAUBAwMEEQQQEQwOCBQHCBIHAw8GCAYLBAEDBgIMBQIKAwMEBQcEDAUFAwMDDw0EBAgHBQsFDhkDCAIFFQsEExQMCgYSBxICBQcLAwIQCgYLBAEGBwMNEQQEGAcOBg0LBA8IEA8FERQECh4EBQEFAw4GBQIGCAMDCgQCBggRAgsDAwMIDAgCBhcEDA4CBRYGBxcHAwcFBAYUBQMMBhMPBAQGBwQLDQIIEQwECAcQBw8FDhELEhAGDQIRBAUEBRQECg4RBhoQAwgSFBEeBQINBg0EBQUWAgMLDgkKCQMABhIDBgcFBwYDBAMIDA4MBQ0JBQ0HCggDAhkLBgkCEQgFBQMPEAMDDQcDBgoDAg0SByANCgMGAgYFBQUEBggEAxcMEgIGBQUEAwQJDRAHFA8EAgYTBRMDAwoEFBIECgMHCgsKBgUODAcIBQsIHwkRCAgKAgkDDBEMBAMJAQYFExYPBQINERIEAQkOCgMDBQYDEgsOEwcSBwMLBwcYBAwDBQQXAwQDDAcPEAYIBwcLCQsLBAMGByUEBQMOBA4HEA0QCwQDBQQIAwoFEgQDEQkJBxsSCA0LBgoMAwYCAwYLBwQDBQUIAgQVDAkHEggRDRIDCgoFBAIEAgQGAwYCBwQTAgYIBAQTEgYFBAMNCgQIAgUEAwEGAgMLBA8HDwIFBwQFBAMPDgUNBhQKCAYFCgUEDAQTDgEEBg4GEgwKBgMSAg4RCB0HAQcNFwQRCAQNBAkFAgkFBQcDEwUJAQYYAwYFCAUJBgkHBwYEBAYDCQcDDw0VAwQQBQMYBQkWExYMFgYJBggFBAcXCxYRBQUCBwwGCwURGAYEAgIkBQ8JAwMHCgITBQQRCAwEBwMCBAcJCAQKAwIDBAkCEhICCxAOAxUEAxYMBAcGDRcBFQcFBAMGAw4RBgIGAQYCAwEGEQgCBQEDBw0GBAkEBx8MAQINAg8EDA0WBAMGAgQDBAgJBgoIBwgTCQcGFQkHCAQYCyIJBwsIFRIDEBMEAwQGGRUQDhICCBoGCgQCBAwHBAQOAgEKBQMEAxIFDQQRFQQLBhIEBwULBBIUBhAHAgMVAgoDAhQMCQ8NDhEFCQ4DBQoICQIDBQMGDRARBBQFDAQHBgQIMwoQCgMFBQ8IDRMMEwcHFQYECQ8QBQUGDwQDCgMSEAkEBAcDAwQEEAQPCCgFGQQgAhAABREKCgUNBg4SAhELBQgDBAMEBQQFCgICDQYGAw0BBRABCwQPCwQQCBACCwUJDhAIEgQOEQMEDgQECwUJDwMJAwgHDwUEBQEKBQ4DAgYKFgcDBAQDBSMEAQoRCAYECAMGBQgDBAQCDwMFBg8DAhkPBQoKEAoDAhEFBRIGBQ8KEAQIBA4FAwQRBQMNBg4NGCALBAcFBQIQBQgIBAIDBA0CFQMBBQwRBwQDCAcFEgMRBAYLCAgHBAIRCwIEBg0EGRYDBwMHCAYDFgkNCAMDFQMGDQ0CCAUEEAUBCgQMARIFCwcODgQHCQYRBwMDAwkMEgMOCAcBEgcECwYDCgMGCwUKBQURAggMBAQMDg4gBQUVAgwEAxcSAQ4IAwoNBAcFEggJFwkPBwMIAwcOEgUCBAQFEAQKBgMSBg4EBA0KCg8NBAIFEQQLCQkICwoNBgQECgIHBwkEBQUCAwEFAgoMAgcGAwQHBAURBBYIBwsOBAwRBRQUBgUVBQcDCAMaDQkBBAsVAgMDCgcDDwkIAgULEgQkFgQRBhIFEQIHCAYJBQ4KCgIDBRUCBQwFDQYMBAUFBQYDEgQJBhEPAggDAxEFBQMCCBUHDAMFCxgCBgMDDwgFCAkHAwUHCgkIBAQGBAYFBwQNBQUHAwkFBwUHFAYCBAQRBBMHFwsHCA8HBAcDEwMLCAcDAggDDhMIBgoHBQQFAw8YBRMDCQEIDwQQCAoZBAoFFQQEBAMKAQQOEgUIDAoHAwUEAxANBQkNFAQDBRQDBA8CIwIEDAYEBA4GAQQbBgMFBBIKAwgPBgMEBRUJBAYOBQkCAg4IDh8KAgUCBg0UBwQKCwcBBA0DAwMIBQQJDAoZDQgIBgULBwIEBgYSCAwEFgUIBgYDBAYLDhMFCBgSBAYFAwsUAw4QBwYEBQkmEQUKBBELBxIDEQkCDAsGCQQCKAYHBg0FEAkLBg4FBAULDQUDBhcGEREJCAMGCAYDBgcDBhADAwgRAwMGBwcMBBoGCgQODAICBQQFCQcHDgoDCQ4OBAcDEQUEAgUDBT4ADgQIBAkHAgEFCAUEBQQDBxUBAwUKCQUEBA0CDwYLAxMEDhANCQcFBgINBQMQFgMXBwQDBAcLGAQDBBEMCwUNEwwHBQwFEQoDBAwFBwQCBhQHCxACDgEUBgEIBA0NEQcBCAsTBAYDDAJJBQoPAgoEBwsFDQcLEAQUAgQSFgYPBAkGCAECDQ8DCBUKBgUNBQQFFBYYAwYEBQgVBAwIBwsDCwMTFAkKAwcHBQYGAwUTFQMOBwQdCwQEBAMDFAMEEQwJAgkHCgEUBwwKCQkIDAMGBgYQCAYICQYBCQMJBQYGCw0HAQIOCRUGEAUGBRQOCQQIBQQIBBUHDAkSBwYCAwQEAgwMDgcYEQYEDQYDCAQQBwUFBAMCBgMGAwIGAgUHAwgQCAICBgcDBQYKCAQMBQcXDgMICw4DBAQFIAIFCQsPDQQNDQMMBAYVDA8FBBAEBQQTFRQLFQoNAwoKAwkFBAQIDRACCwUGDgYHCwkGBw0WCwUKBhwGBxMFBhACBAcGBgYFBQgPBQMQDwUFDwMEAQcIAwQKDgsEBBcHBQgFBhEEBwYFBgkHBw8MAw0FBAIEChENAwUEAggDDAsMCAQEDQcDDAoEDxAGBQ0BBAYEDg8DAwMMBAICAgkFDwgBBAcKCQ4DDwITDhADAgYEEQcOAwELAwQSDBAFCBMGAwcHAwgDCAcHBg0PCgwFCAQDBgYDARUDBwQHDBACBgMDAwgKCgUFIA4DBAMKCAQQDQsGCRkNDw8GAwgFBQMGAw8JEQUMDAMBDgMECgYIBgEbERADAwcSBAUGBgQMBAYPAwURBQgDCwUSEAQOCQMCBgkJDwYJAgcUBgUFAwQEDgILHAgRCQQECRcTBgkJHwkDDxACBgQEBxEFAw8LFQQFBwwJDwoIBAMDDg0GCggGDgwECwYEBgoECAQQEg4TDAsOBgIHBgoKBwsGFQUGAxkFEwMFBQYDCgYICxEFAgUFCQIJBwYHAQ8PAwINCAcCAwoFAgYHCgkEBQQIAwYeBAoOCwsFEAgIDwMTCwYLBAYFCwsMAwcDBQQQEg8NBQQCDwIIDwgFBREGBRINBQgIEQ8JCwINBhMDCBUDBAcUFAkEDAQJBwoOFhkXCwIOBAQFCgYFHwcGCAMGCAQUBA0EDhoFAwMMCwsFDAQFCgkDDAwGBQQQCAUSBRQTBAcDDRkPDgkDFgIHCQcGCwoODAMDAwQLAgMXBwMIEQQCAwUNExACAwgIBgYDBBEOBggCFQkGAgUGBA0CDRMCCwEFAAoQFQMDCxEIDQoOAhcODQQQAxAGCwIEDAYCEgMIBAULDBACFAwRBBEXAwUVCQMFFxEDBw8YIAkDDAMKBgQSBgQFCxMLDRATDgMOAgcBAx4BAAQHBAkQFwcGCwQQBQwDAwUECQIDAwIJCwwDBwkHAxcPBQMVBwUEBggSBAMRCw4DDAEPAgUFBAsFAgUKAyMJDBUHAwgJDwgJAwgOBQ0HAwkFBAcTEAMXEQgIDg0RDQYGCAQHBgkMBgMDAwUIEgYEAQYCAgkEBQ8FBQgSAwcFBQ4EBwgHBQQOCgUGBRQOBgMWBQgHAgchBAYEBQMNBRQGCgUGBgsDFxALBBADFwUCAwcKBwMEAxIMBQcKAw0OBQMDBA4GAhQBAxIHEwgHFQMFDBALCQgGBgQECAQDDAcGAwcMBw0DBAUHAgwPDxQFDhMDBwYOBAUEERECEwILCAYDCAIECAUJBgQDEAMFCBQJDBAFBwkRBQMGGQQPCAYNCwYWBwsJFAYPAw4HBwUDBwQGBRAGCAMBDgQRDgQMDBADBggDCgcEAwMHAwwBDAkKIQMIBxQLAgQMBBECEAUEBA4KBQgLCQIUBQgFEwINBAQHCQUJBQQWAggDBgwFCAgJCBUEBBASAwkLAwwRBBcFAwY9DAgLBQoLCQYCBAkUEBQGBhEOAhURBQMIDAcFGgQEEgMGDQ4UAwkRFw4EEAYNEQcTBAQNBA4EFAYGAgYEEgUSDgQKBAQFDgYLEgQDEAMOBQMFEhMIAgkGDAcEBQUDBQMMAwQFDwMSCwIJCwMHBhYDBAEcDgsDDw8EDQkEKggGCAERAw8HDgkECBYGCQYCAwMDBwULAxMHBw8kDQUEAiYDCAoJDQEGBg4UGAMRCQMDBAYFBQIPAwQEHwcNBg4QAw4RDAUDAgsDBgYJEg0DBwMNBAQEBQMLBgoNCg0MBAUFBhQECQUKDQQDFwUCBRADDgQCBBEXFAQFBQMFBxkDCA4GAwIFDAUHBgQGBQYHCA8FEQ4CBxYQFQUGCgYIDwcPAw8QBQQQCAgHCAgYBg0NDgcYAwIFCBENBwMBDAMICQcDAwcQBAkEBAoOEAUEDQEIAwUIBAIMAwQBCRIGBwgHAwwEBhQEBhIGDgMGBgMMDRMEBQMIAwQGExQQAwYCAxQTBwIEBgUHDQQSEQg+BwgHAxUEDQkQCAIECAYFBgsMCQQDAgMBBAoCBw8KCxEFAwYDDRMQBBYIDwgNBAgDBQQJEAIHDREGCwcDBAsGAwQFBQoDDw4MBgwECgMDBQQDBAMFBAoHBQYCDAQSBAwEBwINDQwJAwMVDgQUBg4EARQHAhADBQoEAwkIBwwMBQgLAwMGDxIIAxAPFQUHBAUDBQIVEAMCAwUICRQXDAIEBQoODAUDBhUFAwsDFAQGDAQTBAQKAxMLBAYNBQMEAgoEAQgCBQQGDAcNBg8QBgMGCgkBBBAEAw8PAwoCBQ4EAwIGFhQJCAMDEAwSCBkEBAQHAwMIDgYPAgYHBAIFDAMHBgUHEgYUFQgFAhgNCgQCAwcGBg8CBA4SBQMGCAQDChAEBhYJCQgOCgkEDwgHAw0JDg8FCAcTBwMJGAQRFgwSBhYEEgQUBwcQDAoVEAMYBA8LDwcQAgQFAw8EExUEBQMCBgQKAwUFBAY=",
          "dtype": "i1"
         },
         "xaxis": "x",
         "yaxis": "y"
        }
       ],
       "layout": {
        "barmode": "relative",
        "legend": {
         "title": {
          "text": "variable"
         },
         "tracegroupgap": 0
        },
        "margin": {
         "t": 60
        },
        "template": {
         "data": {
          "bar": [
           {
            "error_x": {
             "color": "#2a3f5f"
            },
            "error_y": {
             "color": "#2a3f5f"
            },
            "marker": {
             "line": {
              "color": "#E5ECF6",
              "width": 0.5
             },
             "pattern": {
              "fillmode": "overlay",
              "size": 10,
              "solidity": 0.2
             }
            },
            "type": "bar"
           }
          ],
          "barpolar": [
           {
            "marker": {
             "line": {
              "color": "#E5ECF6",
              "width": 0.5
             },
             "pattern": {
              "fillmode": "overlay",
              "size": 10,
              "solidity": 0.2
             }
            },
            "type": "barpolar"
           }
          ],
          "carpet": [
           {
            "aaxis": {
             "endlinecolor": "#2a3f5f",
             "gridcolor": "white",
             "linecolor": "white",
             "minorgridcolor": "white",
             "startlinecolor": "#2a3f5f"
            },
            "baxis": {
             "endlinecolor": "#2a3f5f",
             "gridcolor": "white",
             "linecolor": "white",
             "minorgridcolor": "white",
             "startlinecolor": "#2a3f5f"
            },
            "type": "carpet"
           }
          ],
          "choropleth": [
           {
            "colorbar": {
             "outlinewidth": 0,
             "ticks": ""
            },
            "type": "choropleth"
           }
          ],
          "contour": [
           {
            "colorbar": {
             "outlinewidth": 0,
             "ticks": ""
            },
            "colorscale": [
             [
              0,
              "#0d0887"
             ],
             [
              0.1111111111111111,
              "#46039f"
             ],
             [
              0.2222222222222222,
              "#7201a8"
             ],
             [
              0.3333333333333333,
              "#9c179e"
             ],
             [
              0.4444444444444444,
              "#bd3786"
             ],
             [
              0.5555555555555556,
              "#d8576b"
             ],
             [
              0.6666666666666666,
              "#ed7953"
             ],
             [
              0.7777777777777778,
              "#fb9f3a"
             ],
             [
              0.8888888888888888,
              "#fdca26"
             ],
             [
              1,
              "#f0f921"
             ]
            ],
            "type": "contour"
           }
          ],
          "contourcarpet": [
           {
            "colorbar": {
             "outlinewidth": 0,
             "ticks": ""
            },
            "type": "contourcarpet"
           }
          ],
          "heatmap": [
           {
            "colorbar": {
             "outlinewidth": 0,
             "ticks": ""
            },
            "colorscale": [
             [
              0,
              "#0d0887"
             ],
             [
              0.1111111111111111,
              "#46039f"
             ],
             [
              0.2222222222222222,
              "#7201a8"
             ],
             [
              0.3333333333333333,
              "#9c179e"
             ],
             [
              0.4444444444444444,
              "#bd3786"
             ],
             [
              0.5555555555555556,
              "#d8576b"
             ],
             [
              0.6666666666666666,
              "#ed7953"
             ],
             [
              0.7777777777777778,
              "#fb9f3a"
             ],
             [
              0.8888888888888888,
              "#fdca26"
             ],
             [
              1,
              "#f0f921"
             ]
            ],
            "type": "heatmap"
           }
          ],
          "histogram": [
           {
            "marker": {
             "pattern": {
              "fillmode": "overlay",
              "size": 10,
              "solidity": 0.2
             }
            },
            "type": "histogram"
           }
          ],
          "histogram2d": [
           {
            "colorbar": {
             "outlinewidth": 0,
             "ticks": ""
            },
            "colorscale": [
             [
              0,
              "#0d0887"
             ],
             [
              0.1111111111111111,
              "#46039f"
             ],
             [
              0.2222222222222222,
              "#7201a8"
             ],
             [
              0.3333333333333333,
              "#9c179e"
             ],
             [
              0.4444444444444444,
              "#bd3786"
             ],
             [
              0.5555555555555556,
              "#d8576b"
             ],
             [
              0.6666666666666666,
              "#ed7953"
             ],
             [
              0.7777777777777778,
              "#fb9f3a"
             ],
             [
              0.8888888888888888,
              "#fdca26"
             ],
             [
              1,
              "#f0f921"
             ]
            ],
            "type": "histogram2d"
           }
          ],
          "histogram2dcontour": [
           {
            "colorbar": {
             "outlinewidth": 0,
             "ticks": ""
            },
            "colorscale": [
             [
              0,
              "#0d0887"
             ],
             [
              0.1111111111111111,
              "#46039f"
             ],
             [
              0.2222222222222222,
              "#7201a8"
             ],
             [
              0.3333333333333333,
              "#9c179e"
             ],
             [
              0.4444444444444444,
              "#bd3786"
             ],
             [
              0.5555555555555556,
              "#d8576b"
             ],
             [
              0.6666666666666666,
              "#ed7953"
             ],
             [
              0.7777777777777778,
              "#fb9f3a"
             ],
             [
              0.8888888888888888,
              "#fdca26"
             ],
             [
              1,
              "#f0f921"
             ]
            ],
            "type": "histogram2dcontour"
           }
          ],
          "mesh3d": [
           {
            "colorbar": {
             "outlinewidth": 0,
             "ticks": ""
            },
            "type": "mesh3d"
           }
          ],
          "parcoords": [
           {
            "line": {
             "colorbar": {
              "outlinewidth": 0,
              "ticks": ""
             }
            },
            "type": "parcoords"
           }
          ],
          "pie": [
           {
            "automargin": true,
            "type": "pie"
           }
          ],
          "scatter": [
           {
            "fillpattern": {
             "fillmode": "overlay",
             "size": 10,
             "solidity": 0.2
            },
            "type": "scatter"
           }
          ],
          "scatter3d": [
           {
            "line": {
             "colorbar": {
              "outlinewidth": 0,
              "ticks": ""
             }
            },
            "marker": {
             "colorbar": {
              "outlinewidth": 0,
              "ticks": ""
             }
            },
            "type": "scatter3d"
           }
          ],
          "scattercarpet": [
           {
            "marker": {
             "colorbar": {
              "outlinewidth": 0,
              "ticks": ""
             }
            },
            "type": "scattercarpet"
           }
          ],
          "scattergeo": [
           {
            "marker": {
             "colorbar": {
              "outlinewidth": 0,
              "ticks": ""
             }
            },
            "type": "scattergeo"
           }
          ],
          "scattergl": [
           {
            "marker": {
             "colorbar": {
              "outlinewidth": 0,
              "ticks": ""
             }
            },
            "type": "scattergl"
           }
          ],
          "scattermap": [
           {
            "marker": {
             "colorbar": {
              "outlinewidth": 0,
              "ticks": ""
             }
            },
            "type": "scattermap"
           }
          ],
          "scattermapbox": [
           {
            "marker": {
             "colorbar": {
              "outlinewidth": 0,
              "ticks": ""
             }
            },
            "type": "scattermapbox"
           }
          ],
          "scatterpolar": [
           {
            "marker": {
             "colorbar": {
              "outlinewidth": 0,
              "ticks": ""
             }
            },
            "type": "scatterpolar"
           }
          ],
          "scatterpolargl": [
           {
            "marker": {
             "colorbar": {
              "outlinewidth": 0,
              "ticks": ""
             }
            },
            "type": "scatterpolargl"
           }
          ],
          "scatterternary": [
           {
            "marker": {
             "colorbar": {
              "outlinewidth": 0,
              "ticks": ""
             }
            },
            "type": "scatterternary"
           }
          ],
          "surface": [
           {
            "colorbar": {
             "outlinewidth": 0,
             "ticks": ""
            },
            "colorscale": [
             [
              0,
              "#0d0887"
             ],
             [
              0.1111111111111111,
              "#46039f"
             ],
             [
              0.2222222222222222,
              "#7201a8"
             ],
             [
              0.3333333333333333,
              "#9c179e"
             ],
             [
              0.4444444444444444,
              "#bd3786"
             ],
             [
              0.5555555555555556,
              "#d8576b"
             ],
             [
              0.6666666666666666,
              "#ed7953"
             ],
             [
              0.7777777777777778,
              "#fb9f3a"
             ],
             [
              0.8888888888888888,
              "#fdca26"
             ],
             [
              1,
              "#f0f921"
             ]
            ],
            "type": "surface"
           }
          ],
          "table": [
           {
            "cells": {
             "fill": {
              "color": "#EBF0F8"
             },
             "line": {
              "color": "white"
             }
            },
            "header": {
             "fill": {
              "color": "#C8D4E3"
             },
             "line": {
              "color": "white"
             }
            },
            "type": "table"
           }
          ]
         },
         "layout": {
          "annotationdefaults": {
           "arrowcolor": "#2a3f5f",
           "arrowhead": 0,
           "arrowwidth": 1
          },
          "autotypenumbers": "strict",
          "coloraxis": {
           "colorbar": {
            "outlinewidth": 0,
            "ticks": ""
           }
          },
          "colorscale": {
           "diverging": [
            [
             0,
             "#8e0152"
            ],
            [
             0.1,
             "#c51b7d"
            ],
            [
             0.2,
             "#de77ae"
            ],
            [
             0.3,
             "#f1b6da"
            ],
            [
             0.4,
             "#fde0ef"
            ],
            [
             0.5,
             "#f7f7f7"
            ],
            [
             0.6,
             "#e6f5d0"
            ],
            [
             0.7,
             "#b8e186"
            ],
            [
             0.8,
             "#7fbc41"
            ],
            [
             0.9,
             "#4d9221"
            ],
            [
             1,
             "#276419"
            ]
           ],
           "sequential": [
            [
             0,
             "#0d0887"
            ],
            [
             0.1111111111111111,
             "#46039f"
            ],
            [
             0.2222222222222222,
             "#7201a8"
            ],
            [
             0.3333333333333333,
             "#9c179e"
            ],
            [
             0.4444444444444444,
             "#bd3786"
            ],
            [
             0.5555555555555556,
             "#d8576b"
            ],
            [
             0.6666666666666666,
             "#ed7953"
            ],
            [
             0.7777777777777778,
             "#fb9f3a"
            ],
            [
             0.8888888888888888,
             "#fdca26"
            ],
            [
             1,
             "#f0f921"
            ]
           ],
           "sequentialminus": [
            [
             0,
             "#0d0887"
            ],
            [
             0.1111111111111111,
             "#46039f"
            ],
            [
             0.2222222222222222,
             "#7201a8"
            ],
            [
             0.3333333333333333,
             "#9c179e"
            ],
            [
             0.4444444444444444,
             "#bd3786"
            ],
            [
             0.5555555555555556,
             "#d8576b"
            ],
            [
             0.6666666666666666,
             "#ed7953"
            ],
            [
             0.7777777777777778,
             "#fb9f3a"
            ],
            [
             0.8888888888888888,
             "#fdca26"
            ],
            [
             1,
             "#f0f921"
            ]
           ]
          },
          "colorway": [
           "#636efa",
           "#EF553B",
           "#00cc96",
           "#ab63fa",
           "#FFA15A",
           "#19d3f3",
           "#FF6692",
           "#B6E880",
           "#FF97FF",
           "#FECB52"
          ],
          "font": {
           "color": "#2a3f5f"
          },
          "geo": {
           "bgcolor": "white",
           "lakecolor": "white",
           "landcolor": "#E5ECF6",
           "showlakes": true,
           "showland": true,
           "subunitcolor": "white"
          },
          "hoverlabel": {
           "align": "left"
          },
          "hovermode": "closest",
          "mapbox": {
           "style": "light"
          },
          "paper_bgcolor": "white",
          "plot_bgcolor": "#E5ECF6",
          "polar": {
           "angularaxis": {
            "gridcolor": "white",
            "linecolor": "white",
            "ticks": ""
           },
           "bgcolor": "#E5ECF6",
           "radialaxis": {
            "gridcolor": "white",
            "linecolor": "white",
            "ticks": ""
           }
          },
          "scene": {
           "xaxis": {
            "backgroundcolor": "#E5ECF6",
            "gridcolor": "white",
            "gridwidth": 2,
            "linecolor": "white",
            "showbackground": true,
            "ticks": "",
            "zerolinecolor": "white"
           },
           "yaxis": {
            "backgroundcolor": "#E5ECF6",
            "gridcolor": "white",
            "gridwidth": 2,
            "linecolor": "white",
            "showbackground": true,
            "ticks": "",
            "zerolinecolor": "white"
           },
           "zaxis": {
            "backgroundcolor": "#E5ECF6",
            "gridcolor": "white",
            "gridwidth": 2,
            "linecolor": "white",
            "showbackground": true,
            "ticks": "",
            "zerolinecolor": "white"
           }
          },
          "shapedefaults": {
           "line": {
            "color": "#2a3f5f"
           }
          },
          "ternary": {
           "aaxis": {
            "gridcolor": "white",
            "linecolor": "white",
            "ticks": ""
           },
           "baxis": {
            "gridcolor": "white",
            "linecolor": "white",
            "ticks": ""
           },
           "bgcolor": "#E5ECF6",
           "caxis": {
            "gridcolor": "white",
            "linecolor": "white",
            "ticks": ""
           }
          },
          "title": {
           "x": 0.05
          },
          "xaxis": {
           "automargin": true,
           "gridcolor": "white",
           "linecolor": "white",
           "ticks": "",
           "title": {
            "standoff": 15
           },
           "zerolinecolor": "white",
           "zerolinewidth": 2
          },
          "yaxis": {
           "automargin": true,
           "gridcolor": "white",
           "linecolor": "white",
           "ticks": "",
           "title": {
            "standoff": 15
           },
           "zerolinecolor": "white",
           "zerolinewidth": 2
          }
         }
        },
        "xaxis": {
         "anchor": "y",
         "domain": [
          0,
          1
         ],
         "title": {
          "text": "value"
         }
        },
        "yaxis": {
         "anchor": "x",
         "domain": [
          0,
          1
         ],
         "title": {
          "text": "count"
         }
        }
       }
      }
     },
     "metadata": {},
     "output_type": "display_data"
    }
   ],
   "source": [
    "import plotly.express as px\n",
    "\n",
    "data_lens = np.array([len(sentence) for sentence in tokenized_X_train])\n",
    "\n",
    "max_len = int(np.percentile(data_lens, 95))\n",
    "print(max_len)\n",
    "px.histogram(data_lens)"
   ]
  },
  {
   "cell_type": "code",
   "execution_count": 9,
   "id": "9c658705",
   "metadata": {},
   "outputs": [
    {
     "data": {
      "text/plain": [
       "array([[   2,    3,    4, ...,    0,    0,    0],\n",
       "       [   7,    8,    9, ...,    0,    0,    0],\n",
       "       [  15,   16,   17, ...,    0,    0,    0],\n",
       "       ...,\n",
       "       [1476,  336, 1123, ...,    0,    0,    0],\n",
       "       [2419, 1437, 2377, ...,    0,    0,    0],\n",
       "       [2490,  871, 7128, ...,    0,    0,    0]])"
      ]
     },
     "execution_count": 9,
     "metadata": {},
     "output_type": "execute_result"
    }
   ],
   "source": [
    "def data_to_vector(data):\n",
    "    res = list()\n",
    "    for sentence in data:\n",
    "        line = [token_to_indx.get(token, unk) for token in sentence]\n",
    "        line = line[:max_len]\n",
    "        line = line + [pad] * (max_len - len(line))\n",
    "        res.append(line)\n",
    "    return np.array(res)\n",
    "\n",
    "\n",
    "numerated_X_train = data_to_vector(tokenized_X_train)\n",
    "numerated_X_test = data_to_vector(tokenized_X_test)\n",
    "\n",
    "numerated_X_train"
   ]
  },
  {
   "cell_type": "code",
   "execution_count": 10,
   "id": "7c852bda",
   "metadata": {},
   "outputs": [],
   "source": [
    "import torch\n",
    "\n",
    "device = torch.device(\"cuda\")\n",
    "\n",
    "# device = torch.device('cpu')"
   ]
  },
  {
   "cell_type": "code",
   "execution_count": null,
   "id": "d1ac4520",
   "metadata": {},
   "outputs": [],
   "source": [
    "class SpamDataset(Dataset):\n",
    "    def __init__(self, x, y):\n",
    "        self.texts = torch.tensor(x).to(device)\n",
    "        self.y = torch.tensor(y).float().to(device)\n",
    "\n",
    "    def __len__(self):\n",
    "        return len(self.texts)\n",
    "\n",
    "    def __getitem__(self, index):\n",
    "        return self.texts[index], self.y[index]\n",
    "\n",
    "y_train = np.array(y_train.apply(lambda x: x == \"spam\"))\n",
    "train_data = SpamDataset(numerated_X_train, y_train)\n",
    "\n",
    "y_test = torch.tensor(np.array(y_test.apply(lambda x: x == \"spam\"))).to(device).float()\n",
    "numerated_X_test = torch.tensor(numerated_X_test).to(device)\n",
    "\n",
    "\n",
    "batch_size=64\n",
    "train_dataloader = DataLoader(train_data, batch_size=batch_size, shuffle=True)"
   ]
  },
  {
   "cell_type": "code",
   "execution_count": 12,
   "id": "d6221a83",
   "metadata": {},
   "outputs": [],
   "source": [
    "from torch import nn\n",
    "\n",
    "class SpamDetector(nn.Module):\n",
    "    def __init__(self):\n",
    "        super().__init__()\n",
    "        self.embedder = nn.Embedding(len(unique_tokens), 128)\n",
    "        self.core_stack = nn.LSTM(128, 128, batch_first=True)\n",
    "        self.linear_stack = nn.Sequential(\n",
    "            nn.Linear(128, 64),\n",
    "            nn.Linear(64, 1)\n",
    "        )\n",
    "        self.sigmoid = nn.Sigmoid()\n",
    "\n",
    "    def forward(self, x):\n",
    "        embedded_x = self.embedder(x)\n",
    "        _, (last_states, _) = self.core_stack(embedded_x)\n",
    "        stacked_x = last_states[-1]\n",
    "        verdict = self.linear_stack(stacked_x)\n",
    "\n",
    "        verdict = torch.squeeze(verdict)\n",
    "\n",
    "        return verdict.float().to(device)"
   ]
  },
  {
   "cell_type": "code",
   "execution_count": null,
   "id": "05dc178b",
   "metadata": {},
   "outputs": [
    {
     "name": "stdout",
     "output_type": "stream",
     "text": [
      "Epoch: 0 | train_loss: 0.739503 | test_Loss: 0.0007960690289908728\n",
      "Precision: 0.771429 | Recall: 0.830769 | F1-score: 0.800000\n",
      "\n",
      "Epoch: 1 | train_loss: 0.356788 | test_Loss: 0.0003897075035124729\n",
      "Precision: 0.768293 | Recall: 0.969231 | F1-score: 0.857143\n",
      "\n",
      "Epoch: 2 | train_loss: 0.044766 | test_Loss: 0.0004891033214111623\n",
      "Precision: 0.855072 | Recall: 0.907692 | F1-score: 0.880597\n",
      "\n",
      "Epoch: 3 | train_loss: 0.030440 | test_Loss: 0.0004031333632810434\n",
      "Precision: 0.845070 | Recall: 0.923077 | F1-score: 0.882353\n",
      "\n",
      "Epoch: 4 | train_loss: 0.014642 | test_Loss: 0.000532059939271938\n",
      "Precision: 0.907692 | Recall: 0.907692 | F1-score: 0.907692\n",
      "\n",
      "Epoch: 5 | train_loss: 0.035541 | test_Loss: 0.0006830833520833944\n",
      "Precision: 0.880597 | Recall: 0.907692 | F1-score: 0.893939\n",
      "\n",
      "Epoch: 6 | train_loss: 0.007867 | test_Loss: 0.0007362322489113134\n",
      "Precision: 0.935484 | Recall: 0.892308 | F1-score: 0.913386\n",
      "\n",
      "Epoch: 7 | train_loss: 0.001132 | test_Loss: 0.0007637431358691572\n",
      "Precision: 0.906250 | Recall: 0.892308 | F1-score: 0.899225\n",
      "\n",
      "Epoch: 8 | train_loss: 0.000267 | test_Loss: 0.0010618329970472325\n",
      "Precision: 0.983333 | Recall: 0.907692 | F1-score: 0.944000\n",
      "\n",
      "Epoch: 9 | train_loss: 0.000224 | test_Loss: 0.001030356441291204\n",
      "Precision: 0.892308 | Recall: 0.892308 | F1-score: 0.892308\n",
      "\n",
      "Epoch: 10 | train_loss: 0.760992 | test_Loss: 0.00046363841864772184\n",
      "Precision: 0.910448 | Recall: 0.938462 | F1-score: 0.924242\n",
      "\n",
      "Epoch: 11 | train_loss: 0.001691 | test_Loss: 0.00046826074732110855\n",
      "Precision: 0.837838 | Recall: 0.953846 | F1-score: 0.892086\n",
      "\n",
      "Epoch: 12 | train_loss: 0.001751 | test_Loss: 0.0007520941747226383\n",
      "Precision: 0.953125 | Recall: 0.938462 | F1-score: 0.945736\n",
      "\n",
      "Epoch: 13 | train_loss: 0.001921 | test_Loss: 0.0008254665124808336\n",
      "Precision: 0.938462 | Recall: 0.938462 | F1-score: 0.938462\n",
      "\n",
      "Epoch: 14 | train_loss: 0.000760 | test_Loss: 0.0008967163138509488\n",
      "Precision: 0.869565 | Recall: 0.923077 | F1-score: 0.895522\n",
      "\n",
      "Epoch: 15 | train_loss: 0.000039 | test_Loss: 0.0009502517185543216\n",
      "Precision: 0.857143 | Recall: 0.923077 | F1-score: 0.888889\n",
      "\n",
      "Epoch: 16 | train_loss: 0.000080 | test_Loss: 0.001000422573642989\n",
      "Precision: 0.857143 | Recall: 0.923077 | F1-score: 0.888889\n",
      "\n",
      "Epoch: 17 | train_loss: 0.000100 | test_Loss: 0.0010424387754739137\n",
      "Precision: 0.857143 | Recall: 0.923077 | F1-score: 0.888889\n",
      "\n",
      "Epoch: 18 | train_loss: 0.000052 | test_Loss: 0.0010833031204267904\n",
      "Precision: 0.845070 | Recall: 0.923077 | F1-score: 0.882353\n",
      "\n",
      "Epoch: 19 | train_loss: 0.000069 | test_Loss: 0.0011207840659401634\n",
      "Precision: 0.845070 | Recall: 0.923077 | F1-score: 0.882353\n",
      "\n"
     ]
    }
   ],
   "source": [
    "from torch.optim import Adam\n",
    "from torch.nn import BCEWithLogitsLoss\n",
    "\n",
    "threshold = 0.5\n",
    "determine = lambda x: x > threshold\n",
    "\n",
    "def train_loop(model: torch.nn.Module, optimizer, criterion):\n",
    "    train_logs, test_logs, f1_logs = [], [], []\n",
    "    for epoch in range(20):\n",
    "        model.train()\n",
    "        for (X, y) in train_dataloader:\n",
    "            pred = model(X)\n",
    "\n",
    "            optimizer.zero_grad()\n",
    "            loss = criterion(pred, y)\n",
    "            loss.backward()\n",
    "            optimizer.step()\n",
    "\n",
    "        print(f\"Epoch: {epoch} | train_loss: {loss:>7f} | \", end=\"\")\n",
    "        train_logs.append(loss.item())\n",
    "\n",
    "        model.eval()\n",
    "        with torch.no_grad():\n",
    "            val_loss = 0\n",
    "            pred = model(numerated_X_test)\n",
    "            val_loss += criterion(pred, y_test).item()\n",
    "            print(f\"test_Loss: {val_loss / len(numerated_X_test)}\")\n",
    "            label_pred = determine(pred)\n",
    "\n",
    "            TP = ((label_pred == 1) & (y_test == 1)).sum().item()\n",
    "            FP = ((label_pred == 1) & (y_test == 0)).sum().item()\n",
    "            FN = ((label_pred == 0) & (y_test == 1)).sum().item()\n",
    "\n",
    "            prec = TP / (FP + TP)\n",
    "            recall = TP / (FN + TP)\n",
    "            f1 = 2 / ((1 / (prec)) + (1 / (recall))) \n",
    "\n",
    "            print(f\"Precision: {prec:>5f} | Recall: {recall:>5f} | F1-score: {f1:>5f}\", end=\"\\n\\n\")\n",
    "\n",
    "            test_logs.append(val_loss / len(numerated_X_test))\n",
    "            f1_logs.append(f1)\n",
    "            \n",
    "    return train_logs, test_logs, f1_logs\n",
    "\n",
    "model = SpamDetector().to(device)\n",
    "optimizer = Adam(model.parameters(), weight_decay=1e-5)\n",
    "loss = BCEWithLogitsLoss(pos_weight=torch.tensor([8.0])).to(device)\n",
    "\n",
    "train_logs, test_logs, f1_logs = train_loop(model, optimizer, loss)"
   ]
  },
  {
   "cell_type": "code",
   "execution_count": 14,
   "id": "282a16e6",
   "metadata": {},
   "outputs": [
    {
     "data": {
      "application/vnd.plotly.v1+json": {
       "config": {
        "plotlyServerURL": "https://plot.ly"
       },
       "data": [
        {
         "name": "Train BCE",
         "type": "scatter",
         "y": [
          0.7395026087760925,
          0.356787770986557,
          0.04476647451519966,
          0.03044016845524311,
          0.014641977846622467,
          0.035540539771318436,
          0.007867008447647095,
          0.001132252742536366,
          0.00026681620511226356,
          0.00022352304949890822,
          0.7609919905662537,
          0.0016906695673242211,
          0.0017511460464447737,
          0.001920683542266488,
          0.0007596248760819435,
          0.00003882558303303085,
          0.00007977301720529795,
          0.00009974362183129415,
          0.00005229110684012994,
          0.00006876041879877448
         ]
        },
        {
         "name": "Test BCE",
         "type": "scatter",
         "y": [
          0.0007960690289908728,
          0.0003897075035124729,
          0.0004891033214111623,
          0.0004031333632810434,
          0.000532059939271938,
          0.0006830833520833944,
          0.0007362322489113134,
          0.0007637431358691572,
          0.0010618329970472325,
          0.001030356441291204,
          0.00046363841864772184,
          0.00046826074732110855,
          0.0007520941747226383,
          0.0008254665124808336,
          0.0008967163138509488,
          0.0009502517185543216,
          0.001000422573642989,
          0.0010424387754739137,
          0.0010833031204267904,
          0.0011207840659401634
         ]
        },
        {
         "name": "f1-score",
         "type": "scatter",
         "y": [
          0.8,
          0.8571428571428571,
          0.8805970149253731,
          0.8823529411764706,
          0.9076923076923077,
          0.8939393939393938,
          0.9133858267716535,
          0.8992248062015504,
          0.9440000000000002,
          0.8923076923076924,
          0.9242424242424242,
          0.8920863309352517,
          0.9457364341085269,
          0.9384615384615383,
          0.8955223880597015,
          0.8888888888888888,
          0.8888888888888888,
          0.8888888888888888,
          0.8823529411764706,
          0.8823529411764706
         ]
        }
       ],
       "layout": {
        "template": {
         "data": {
          "bar": [
           {
            "error_x": {
             "color": "#2a3f5f"
            },
            "error_y": {
             "color": "#2a3f5f"
            },
            "marker": {
             "line": {
              "color": "#E5ECF6",
              "width": 0.5
             },
             "pattern": {
              "fillmode": "overlay",
              "size": 10,
              "solidity": 0.2
             }
            },
            "type": "bar"
           }
          ],
          "barpolar": [
           {
            "marker": {
             "line": {
              "color": "#E5ECF6",
              "width": 0.5
             },
             "pattern": {
              "fillmode": "overlay",
              "size": 10,
              "solidity": 0.2
             }
            },
            "type": "barpolar"
           }
          ],
          "carpet": [
           {
            "aaxis": {
             "endlinecolor": "#2a3f5f",
             "gridcolor": "white",
             "linecolor": "white",
             "minorgridcolor": "white",
             "startlinecolor": "#2a3f5f"
            },
            "baxis": {
             "endlinecolor": "#2a3f5f",
             "gridcolor": "white",
             "linecolor": "white",
             "minorgridcolor": "white",
             "startlinecolor": "#2a3f5f"
            },
            "type": "carpet"
           }
          ],
          "choropleth": [
           {
            "colorbar": {
             "outlinewidth": 0,
             "ticks": ""
            },
            "type": "choropleth"
           }
          ],
          "contour": [
           {
            "colorbar": {
             "outlinewidth": 0,
             "ticks": ""
            },
            "colorscale": [
             [
              0,
              "#0d0887"
             ],
             [
              0.1111111111111111,
              "#46039f"
             ],
             [
              0.2222222222222222,
              "#7201a8"
             ],
             [
              0.3333333333333333,
              "#9c179e"
             ],
             [
              0.4444444444444444,
              "#bd3786"
             ],
             [
              0.5555555555555556,
              "#d8576b"
             ],
             [
              0.6666666666666666,
              "#ed7953"
             ],
             [
              0.7777777777777778,
              "#fb9f3a"
             ],
             [
              0.8888888888888888,
              "#fdca26"
             ],
             [
              1,
              "#f0f921"
             ]
            ],
            "type": "contour"
           }
          ],
          "contourcarpet": [
           {
            "colorbar": {
             "outlinewidth": 0,
             "ticks": ""
            },
            "type": "contourcarpet"
           }
          ],
          "heatmap": [
           {
            "colorbar": {
             "outlinewidth": 0,
             "ticks": ""
            },
            "colorscale": [
             [
              0,
              "#0d0887"
             ],
             [
              0.1111111111111111,
              "#46039f"
             ],
             [
              0.2222222222222222,
              "#7201a8"
             ],
             [
              0.3333333333333333,
              "#9c179e"
             ],
             [
              0.4444444444444444,
              "#bd3786"
             ],
             [
              0.5555555555555556,
              "#d8576b"
             ],
             [
              0.6666666666666666,
              "#ed7953"
             ],
             [
              0.7777777777777778,
              "#fb9f3a"
             ],
             [
              0.8888888888888888,
              "#fdca26"
             ],
             [
              1,
              "#f0f921"
             ]
            ],
            "type": "heatmap"
           }
          ],
          "histogram": [
           {
            "marker": {
             "pattern": {
              "fillmode": "overlay",
              "size": 10,
              "solidity": 0.2
             }
            },
            "type": "histogram"
           }
          ],
          "histogram2d": [
           {
            "colorbar": {
             "outlinewidth": 0,
             "ticks": ""
            },
            "colorscale": [
             [
              0,
              "#0d0887"
             ],
             [
              0.1111111111111111,
              "#46039f"
             ],
             [
              0.2222222222222222,
              "#7201a8"
             ],
             [
              0.3333333333333333,
              "#9c179e"
             ],
             [
              0.4444444444444444,
              "#bd3786"
             ],
             [
              0.5555555555555556,
              "#d8576b"
             ],
             [
              0.6666666666666666,
              "#ed7953"
             ],
             [
              0.7777777777777778,
              "#fb9f3a"
             ],
             [
              0.8888888888888888,
              "#fdca26"
             ],
             [
              1,
              "#f0f921"
             ]
            ],
            "type": "histogram2d"
           }
          ],
          "histogram2dcontour": [
           {
            "colorbar": {
             "outlinewidth": 0,
             "ticks": ""
            },
            "colorscale": [
             [
              0,
              "#0d0887"
             ],
             [
              0.1111111111111111,
              "#46039f"
             ],
             [
              0.2222222222222222,
              "#7201a8"
             ],
             [
              0.3333333333333333,
              "#9c179e"
             ],
             [
              0.4444444444444444,
              "#bd3786"
             ],
             [
              0.5555555555555556,
              "#d8576b"
             ],
             [
              0.6666666666666666,
              "#ed7953"
             ],
             [
              0.7777777777777778,
              "#fb9f3a"
             ],
             [
              0.8888888888888888,
              "#fdca26"
             ],
             [
              1,
              "#f0f921"
             ]
            ],
            "type": "histogram2dcontour"
           }
          ],
          "mesh3d": [
           {
            "colorbar": {
             "outlinewidth": 0,
             "ticks": ""
            },
            "type": "mesh3d"
           }
          ],
          "parcoords": [
           {
            "line": {
             "colorbar": {
              "outlinewidth": 0,
              "ticks": ""
             }
            },
            "type": "parcoords"
           }
          ],
          "pie": [
           {
            "automargin": true,
            "type": "pie"
           }
          ],
          "scatter": [
           {
            "fillpattern": {
             "fillmode": "overlay",
             "size": 10,
             "solidity": 0.2
            },
            "type": "scatter"
           }
          ],
          "scatter3d": [
           {
            "line": {
             "colorbar": {
              "outlinewidth": 0,
              "ticks": ""
             }
            },
            "marker": {
             "colorbar": {
              "outlinewidth": 0,
              "ticks": ""
             }
            },
            "type": "scatter3d"
           }
          ],
          "scattercarpet": [
           {
            "marker": {
             "colorbar": {
              "outlinewidth": 0,
              "ticks": ""
             }
            },
            "type": "scattercarpet"
           }
          ],
          "scattergeo": [
           {
            "marker": {
             "colorbar": {
              "outlinewidth": 0,
              "ticks": ""
             }
            },
            "type": "scattergeo"
           }
          ],
          "scattergl": [
           {
            "marker": {
             "colorbar": {
              "outlinewidth": 0,
              "ticks": ""
             }
            },
            "type": "scattergl"
           }
          ],
          "scattermap": [
           {
            "marker": {
             "colorbar": {
              "outlinewidth": 0,
              "ticks": ""
             }
            },
            "type": "scattermap"
           }
          ],
          "scattermapbox": [
           {
            "marker": {
             "colorbar": {
              "outlinewidth": 0,
              "ticks": ""
             }
            },
            "type": "scattermapbox"
           }
          ],
          "scatterpolar": [
           {
            "marker": {
             "colorbar": {
              "outlinewidth": 0,
              "ticks": ""
             }
            },
            "type": "scatterpolar"
           }
          ],
          "scatterpolargl": [
           {
            "marker": {
             "colorbar": {
              "outlinewidth": 0,
              "ticks": ""
             }
            },
            "type": "scatterpolargl"
           }
          ],
          "scatterternary": [
           {
            "marker": {
             "colorbar": {
              "outlinewidth": 0,
              "ticks": ""
             }
            },
            "type": "scatterternary"
           }
          ],
          "surface": [
           {
            "colorbar": {
             "outlinewidth": 0,
             "ticks": ""
            },
            "colorscale": [
             [
              0,
              "#0d0887"
             ],
             [
              0.1111111111111111,
              "#46039f"
             ],
             [
              0.2222222222222222,
              "#7201a8"
             ],
             [
              0.3333333333333333,
              "#9c179e"
             ],
             [
              0.4444444444444444,
              "#bd3786"
             ],
             [
              0.5555555555555556,
              "#d8576b"
             ],
             [
              0.6666666666666666,
              "#ed7953"
             ],
             [
              0.7777777777777778,
              "#fb9f3a"
             ],
             [
              0.8888888888888888,
              "#fdca26"
             ],
             [
              1,
              "#f0f921"
             ]
            ],
            "type": "surface"
           }
          ],
          "table": [
           {
            "cells": {
             "fill": {
              "color": "#EBF0F8"
             },
             "line": {
              "color": "white"
             }
            },
            "header": {
             "fill": {
              "color": "#C8D4E3"
             },
             "line": {
              "color": "white"
             }
            },
            "type": "table"
           }
          ]
         },
         "layout": {
          "annotationdefaults": {
           "arrowcolor": "#2a3f5f",
           "arrowhead": 0,
           "arrowwidth": 1
          },
          "autotypenumbers": "strict",
          "coloraxis": {
           "colorbar": {
            "outlinewidth": 0,
            "ticks": ""
           }
          },
          "colorscale": {
           "diverging": [
            [
             0,
             "#8e0152"
            ],
            [
             0.1,
             "#c51b7d"
            ],
            [
             0.2,
             "#de77ae"
            ],
            [
             0.3,
             "#f1b6da"
            ],
            [
             0.4,
             "#fde0ef"
            ],
            [
             0.5,
             "#f7f7f7"
            ],
            [
             0.6,
             "#e6f5d0"
            ],
            [
             0.7,
             "#b8e186"
            ],
            [
             0.8,
             "#7fbc41"
            ],
            [
             0.9,
             "#4d9221"
            ],
            [
             1,
             "#276419"
            ]
           ],
           "sequential": [
            [
             0,
             "#0d0887"
            ],
            [
             0.1111111111111111,
             "#46039f"
            ],
            [
             0.2222222222222222,
             "#7201a8"
            ],
            [
             0.3333333333333333,
             "#9c179e"
            ],
            [
             0.4444444444444444,
             "#bd3786"
            ],
            [
             0.5555555555555556,
             "#d8576b"
            ],
            [
             0.6666666666666666,
             "#ed7953"
            ],
            [
             0.7777777777777778,
             "#fb9f3a"
            ],
            [
             0.8888888888888888,
             "#fdca26"
            ],
            [
             1,
             "#f0f921"
            ]
           ],
           "sequentialminus": [
            [
             0,
             "#0d0887"
            ],
            [
             0.1111111111111111,
             "#46039f"
            ],
            [
             0.2222222222222222,
             "#7201a8"
            ],
            [
             0.3333333333333333,
             "#9c179e"
            ],
            [
             0.4444444444444444,
             "#bd3786"
            ],
            [
             0.5555555555555556,
             "#d8576b"
            ],
            [
             0.6666666666666666,
             "#ed7953"
            ],
            [
             0.7777777777777778,
             "#fb9f3a"
            ],
            [
             0.8888888888888888,
             "#fdca26"
            ],
            [
             1,
             "#f0f921"
            ]
           ]
          },
          "colorway": [
           "#636efa",
           "#EF553B",
           "#00cc96",
           "#ab63fa",
           "#FFA15A",
           "#19d3f3",
           "#FF6692",
           "#B6E880",
           "#FF97FF",
           "#FECB52"
          ],
          "font": {
           "color": "#2a3f5f"
          },
          "geo": {
           "bgcolor": "white",
           "lakecolor": "white",
           "landcolor": "#E5ECF6",
           "showlakes": true,
           "showland": true,
           "subunitcolor": "white"
          },
          "hoverlabel": {
           "align": "left"
          },
          "hovermode": "closest",
          "mapbox": {
           "style": "light"
          },
          "paper_bgcolor": "white",
          "plot_bgcolor": "#E5ECF6",
          "polar": {
           "angularaxis": {
            "gridcolor": "white",
            "linecolor": "white",
            "ticks": ""
           },
           "bgcolor": "#E5ECF6",
           "radialaxis": {
            "gridcolor": "white",
            "linecolor": "white",
            "ticks": ""
           }
          },
          "scene": {
           "xaxis": {
            "backgroundcolor": "#E5ECF6",
            "gridcolor": "white",
            "gridwidth": 2,
            "linecolor": "white",
            "showbackground": true,
            "ticks": "",
            "zerolinecolor": "white"
           },
           "yaxis": {
            "backgroundcolor": "#E5ECF6",
            "gridcolor": "white",
            "gridwidth": 2,
            "linecolor": "white",
            "showbackground": true,
            "ticks": "",
            "zerolinecolor": "white"
           },
           "zaxis": {
            "backgroundcolor": "#E5ECF6",
            "gridcolor": "white",
            "gridwidth": 2,
            "linecolor": "white",
            "showbackground": true,
            "ticks": "",
            "zerolinecolor": "white"
           }
          },
          "shapedefaults": {
           "line": {
            "color": "#2a3f5f"
           }
          },
          "ternary": {
           "aaxis": {
            "gridcolor": "white",
            "linecolor": "white",
            "ticks": ""
           },
           "baxis": {
            "gridcolor": "white",
            "linecolor": "white",
            "ticks": ""
           },
           "bgcolor": "#E5ECF6",
           "caxis": {
            "gridcolor": "white",
            "linecolor": "white",
            "ticks": ""
           }
          },
          "title": {
           "x": 0.05
          },
          "xaxis": {
           "automargin": true,
           "gridcolor": "white",
           "linecolor": "white",
           "ticks": "",
           "title": {
            "standoff": 15
           },
           "zerolinecolor": "white",
           "zerolinewidth": 2
          },
          "yaxis": {
           "automargin": true,
           "gridcolor": "white",
           "linecolor": "white",
           "ticks": "",
           "title": {
            "standoff": 15
           },
           "zerolinecolor": "white",
           "zerolinewidth": 2
          }
         }
        }
       }
      }
     },
     "metadata": {},
     "output_type": "display_data"
    }
   ],
   "source": [
    "import plotly.express as px\n",
    "import plotly.graph_objects as go \n",
    "\n",
    "figure = go.Figure()\n",
    "figure.add_trace(go.Scatter(y=train_logs, name=\"Train BCE\"))\n",
    "figure.add_trace(go.Scatter(y=test_logs, name=\"Test BCE\"))\n",
    "figure.add_trace(go.Scatter(y=f1_logs, name=\"f1-score\"))\n",
    "\n",
    "figure.show()"
   ]
  },
  {
   "cell_type": "code",
   "execution_count": 15,
   "id": "e5eebaf2",
   "metadata": {},
   "outputs": [
    {
     "name": "stdout",
     "output_type": "stream",
     "text": [
      "              precision    recall  f1-score   support\n",
      "\n",
      "         0.0       0.99      0.98      0.98       452\n",
      "         1.0       0.85      0.92      0.88        65\n",
      "\n",
      "    accuracy                           0.97       517\n",
      "   macro avg       0.92      0.95      0.93       517\n",
      "weighted avg       0.97      0.97      0.97       517\n",
      "\n"
     ]
    }
   ],
   "source": [
    "with torch.no_grad():\n",
    "    print(classification_report(y_test.cpu(), determine(model(numerated_X_test).cpu())))"
   ]
  }
 ],
 "metadata": {
  "kernelspec": {
   "display_name": "venv",
   "language": "python",
   "name": "python3"
  },
  "language_info": {
   "codemirror_mode": {
    "name": "ipython",
    "version": 3
   },
   "file_extension": ".py",
   "mimetype": "text/x-python",
   "name": "python",
   "nbconvert_exporter": "python",
   "pygments_lexer": "ipython3",
   "version": "3.12.7"
  }
 },
 "nbformat": 4,
 "nbformat_minor": 5
}
